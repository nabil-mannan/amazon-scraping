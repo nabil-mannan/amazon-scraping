{
 "cells": [
  {
   "cell_type": "code",
   "execution_count": 1,
   "id": "fa29078e",
   "metadata": {},
   "outputs": [],
   "source": [
    "# Import libraries\n",
    "from bs4 import BeautifulSoup\n",
    "import requests\n",
    "import time\n",
    "import datetime\n",
    "import smtplib\n",
    "import datetime"
   ]
  },
  {
   "cell_type": "code",
   "execution_count": 3,
   "id": "0c16fc4a",
   "metadata": {},
   "outputs": [
    {
     "name": "stdout",
     "output_type": "stream",
     "text": [
      "\n",
      "            God of War Ragnarök (PS5)\n",
      "           \n",
      "\n",
      "               £57.57\n",
      "              \n",
      "\n",
      "               4.9\n",
      "              \n"
     ]
    }
   ],
   "source": [
    "# Connect to website\n",
    "URL ='https://www.amazon.co.uk/God-of-War-Ragnar%C3%B6k-PS5/dp/B0B6FGSKCQ/ref=sr_1_3?keywords=god+of+war+ragnarok+ps5&qid=1682693240&sprefix=god+of+war%2Caps%2C279&sr=8-3' \n",
    "\n",
    "headers = {\"User-agent\": \"Mozilla/5.0 (Windows NT 10.0; Win64; x64) AppleWebKit/537.36 (KHTML, like Gecko) Chrome/112.0.0.0 Safari/537.36 Edg/112.0.1722.58\", \"Accept-Encoding\":\"gzip, deflate\", \"Accept\":\"text/html,application/xhtml+xml,application/xml;q=0.9,*/*;q=0.8\", \"DNT\":\"1\", \"Connection\":\"close\", \"Upgrade-Insecure-Requests\":\"1\"}\n",
    "\n",
    "page = requests.get(URL, headers=headers)\n",
    "\n",
    "soup = BeautifulSoup(page.content, 'html.parser')\n",
    "soup1 = BeautifulSoup(soup.prettify(), 'html.parser')\n",
    "\n",
    "title = soup1.find(id='productTitle').get_text()\n",
    "\n",
    "price_info = soup1.find('div', class_='a-section a-spacing-none aok-align-center')\n",
    "price = price_info.find('span', class_='a-offscreen').get_text()\n",
    "\n",
    "rating_info = soup1.find('div', id='averageCustomerReviews_feature_div')\n",
    "rating = rating_info.find('span', class_='a-size-base a-color-base').get_text()\n",
    "\n",
    "print(title)\n",
    "print(price)\n",
    "print(rating)"
   ]
  },
  {
   "cell_type": "code",
   "execution_count": 4,
   "id": "6aac938d",
   "metadata": {},
   "outputs": [
    {
     "name": "stdout",
     "output_type": "stream",
     "text": [
      "God of War Ragnarök (PS5)\n",
      "£57.57\n",
      "4.9\n"
     ]
    }
   ],
   "source": [
    "# Removes whitespace from beginning\n",
    "title = title.strip()\n",
    "price = price.strip()\n",
    "rating = rating.strip()\n",
    "\n",
    "print(title)\n",
    "print(price)\n",
    "print(rating)"
   ]
  },
  {
   "cell_type": "code",
   "execution_count": 5,
   "id": "6e923422",
   "metadata": {},
   "outputs": [
    {
     "name": "stdout",
     "output_type": "stream",
     "text": [
      "2023-04-28\n"
     ]
    }
   ],
   "source": [
    "date = datetime.date.today()\n",
    "print(date)"
   ]
  },
  {
   "cell_type": "code",
   "execution_count": 6,
   "id": "0fb7634c",
   "metadata": {},
   "outputs": [],
   "source": [
    "headers = ['Title', 'Price', 'Rating', 'Date']\n",
    "data = [title, price, rating, date]"
   ]
  },
  {
   "cell_type": "code",
   "execution_count": 7,
   "id": "ad8ac6e9",
   "metadata": {},
   "outputs": [],
   "source": [
    "import csv\n",
    "\n",
    "# Creating a csv file that holds the data\n",
    "with open('AmazonProductScraping.csv', 'w', newline='', encoding='UTF8') as f:\n",
    "    writer = csv.writer(f)\n",
    "    writer.writerow(headers)\n",
    "    writer.writerow(data)"
   ]
  },
  {
   "cell_type": "code",
   "execution_count": 8,
   "id": "d1b92522",
   "metadata": {},
   "outputs": [],
   "source": [
    "# Creating a csv file that holds the data\n",
    "with open('AmazonProductScraping.csv', 'a+', newline='', encoding='UTF8') as f:\n",
    "    writer = csv.writer(f)\n",
    "    writer.writerow(data)"
   ]
  },
  {
   "cell_type": "code",
   "execution_count": 11,
   "id": "a387e900",
   "metadata": {},
   "outputs": [],
   "source": [
    "# Function that automates the above process\n",
    "def check_product():\n",
    "    URL ='https://www.amazon.co.uk/God-of-War-Ragnar%C3%B6k-PS5/dp/B0B6FGSKCQ/ref=sr_1_3?keywords=god+of+war+ragnarok+ps5&qid=1682693240&sprefix=god+of+war%2Caps%2C279&sr=8-3' \n",
    "\n",
    "    headers = {\"User-agent\": \"Mozilla/5.0 (Windows NT 10.0; Win64; x64) AppleWebKit/537.36 (KHTML, like Gecko) Chrome/112.0.0.0 Safari/537.36 Edg/112.0.1722.58\", \"Accept-Encoding\":\"gzip, deflate\", \"Accept\":\"text/html,application/xhtml+xml,application/xml;q=0.9,*/*;q=0.8\", \"DNT\":\"1\", \"Connection\":\"close\", \"Upgrade-Insecure-Requests\":\"1\"}\n",
    "\n",
    "    page = requests.get(URL, headers=headers)\n",
    "\n",
    "    soup = BeautifulSoup(page.content, 'html.parser')\n",
    "    soup1 = BeautifulSoup(soup.prettify(), 'html.parser')\n",
    "\n",
    "    title = soup1.find(id='productTitle').get_text()\n",
    "\n",
    "    price_info = soup1.find('div', class_='a-section a-spacing-none aok-align-center')\n",
    "    price = price_info.find('span', class_='a-offscreen').get_text()\n",
    "\n",
    "    rating_info = soup1.find('div', id='averageCustomerReviews_feature_div')\n",
    "    rating = rating_info.find('span', class_='a-size-base a-color-base').get_text()\n",
    "\n",
    "    title = title.strip()\n",
    "    price = price.strip()\n",
    "    rating = rating.strip()\n",
    "\n",
    "    date = datetime.date.today()\n",
    "\n",
    "    headers = ['Title', 'Price', 'Rating', 'Date']\n",
    "    data = [title, price, rating, date]\n",
    "\n",
    "    with open('AmazonProductScraping.csv', 'a+', newline='', encoding='UTF8') as f:\n",
    "        writer = csv.writer(f)\n",
    "        writer.writerow(data)"
   ]
  },
  {
   "cell_type": "code",
   "execution_count": null,
   "id": "30b89cdd",
   "metadata": {},
   "outputs": [],
   "source": [
    "# Currently checks product every 10 seconds but can be changed to any length of time\n",
    "while True:\n",
    "    check_product()\n",
    "    time.sleep(10)"
   ]
  },
  {
   "cell_type": "code",
   "execution_count": 13,
   "id": "50138ca5",
   "metadata": {},
   "outputs": [
    {
     "data": {
      "text/html": [
       "<div>\n",
       "<style scoped>\n",
       "    .dataframe tbody tr th:only-of-type {\n",
       "        vertical-align: middle;\n",
       "    }\n",
       "\n",
       "    .dataframe tbody tr th {\n",
       "        vertical-align: top;\n",
       "    }\n",
       "\n",
       "    .dataframe thead th {\n",
       "        text-align: right;\n",
       "    }\n",
       "</style>\n",
       "<table border=\"1\" class=\"dataframe\">\n",
       "  <thead>\n",
       "    <tr style=\"text-align: right;\">\n",
       "      <th></th>\n",
       "      <th>Title</th>\n",
       "      <th>Price</th>\n",
       "      <th>Rating</th>\n",
       "      <th>Date</th>\n",
       "    </tr>\n",
       "  </thead>\n",
       "  <tbody>\n",
       "    <tr>\n",
       "      <th>0</th>\n",
       "      <td>God of War Ragnarök (PS5)</td>\n",
       "      <td>£57.57</td>\n",
       "      <td>4.9</td>\n",
       "      <td>2023-04-28</td>\n",
       "    </tr>\n",
       "    <tr>\n",
       "      <th>1</th>\n",
       "      <td>God of War Ragnarök (PS5)</td>\n",
       "      <td>£57.57</td>\n",
       "      <td>4.9</td>\n",
       "      <td>2023-04-28</td>\n",
       "    </tr>\n",
       "    <tr>\n",
       "      <th>2</th>\n",
       "      <td>God of War Ragnarök (PS5)</td>\n",
       "      <td>£57.57</td>\n",
       "      <td>(4.9)</td>\n",
       "      <td>2023-04-28</td>\n",
       "    </tr>\n",
       "    <tr>\n",
       "      <th>3</th>\n",
       "      <td>God of War Ragnarök (PS5)</td>\n",
       "      <td>£57.57</td>\n",
       "      <td>4.9</td>\n",
       "      <td>2023-04-28</td>\n",
       "    </tr>\n",
       "    <tr>\n",
       "      <th>4</th>\n",
       "      <td>God of War Ragnarök (PS5)</td>\n",
       "      <td>£57.57</td>\n",
       "      <td>4.9</td>\n",
       "      <td>2023-04-28</td>\n",
       "    </tr>\n",
       "  </tbody>\n",
       "</table>\n",
       "</div>"
      ],
      "text/plain": [
       "                       Title   Price Rating        Date\n",
       "0  God of War Ragnarök (PS5)  £57.57    4.9  2023-04-28\n",
       "1  God of War Ragnarök (PS5)  £57.57    4.9  2023-04-28\n",
       "2  God of War Ragnarök (PS5)  £57.57  (4.9)  2023-04-28\n",
       "3  God of War Ragnarök (PS5)  £57.57    4.9  2023-04-28\n",
       "4  God of War Ragnarök (PS5)  £57.57    4.9  2023-04-28"
      ]
     },
     "execution_count": 13,
     "metadata": {},
     "output_type": "execute_result"
    }
   ],
   "source": [
    "import pandas as pd\n",
    "\n",
    "df = pd.read_csv(r'C:\\Users\\nabil\\MSc Stuff\\Untitled Folder\\AmazonProductScraping.csv')\n",
    "\n",
    "df"
   ]
  },
  {
   "cell_type": "code",
   "execution_count": null,
   "id": "1d071ba8",
   "metadata": {},
   "outputs": [],
   "source": []
  }
 ],
 "metadata": {
  "kernelspec": {
   "display_name": "Python 3",
   "language": "python",
   "name": "python3"
  },
  "language_info": {
   "codemirror_mode": {
    "name": "ipython",
    "version": 3
   },
   "file_extension": ".py",
   "mimetype": "text/x-python",
   "name": "python",
   "nbconvert_exporter": "python",
   "pygments_lexer": "ipython3",
   "version": "3.8.8"
  }
 },
 "nbformat": 4,
 "nbformat_minor": 5
}
